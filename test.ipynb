{
 "cells": [
  {
   "cell_type": "code",
   "execution_count": null,
   "id": "4376e70a",
   "metadata": {},
   "outputs": [],
   "source": [
    "from omega_prime_trajdata import yield_omegas"
   ]
  },
  {
   "cell_type": "code",
   "execution_count": null,
   "id": "6e46ee7f",
   "metadata": {},
   "outputs": [],
   "source": [
    "map_cache = {}"
   ]
  },
  {
   "cell_type": "code",
   "execution_count": null,
   "id": "49135ca0",
   "metadata": {},
   "outputs": [],
   "source": [
    "omegas = yield_omegas(\n",
    "    map_cache,\n",
    "    dataset_name='nusc_mini', \n",
    "    dataset_dir='../nuscene_mini/'\n",
    ")"
   ]
  },
  {
   "cell_type": "code",
   "execution_count": null,
   "id": "1b684076",
   "metadata": {},
   "outputs": [],
   "source": [
    "name, r = next(omegas)\n",
    "print(name)\n",
    "r.plot_altair(plot_map_polys=False)\n",
    "#r.plot()"
   ]
  },
  {
   "cell_type": "code",
   "execution_count": null,
   "id": "5a8fd65c",
   "metadata": {},
   "outputs": [],
   "source": []
  },
  {
   "cell_type": "code",
   "execution_count": null,
   "id": "621636f2",
   "metadata": {},
   "outputs": [],
   "source": []
  },
  {
   "cell_type": "code",
   "execution_count": null,
   "id": "e3caf2bf",
   "metadata": {},
   "outputs": [],
   "source": [
    "!uv pip install jupyter_bokeh"
   ]
  },
  {
   "cell_type": "code",
   "execution_count": null,
   "id": "ac1596d6",
   "metadata": {},
   "outputs": [],
   "source": [
    "from bokeh.io import output_notebook\n",
    "output_notebook()"
   ]
  },
  {
   "cell_type": "code",
   "execution_count": null,
   "id": "0070eccc",
   "metadata": {},
   "outputs": [],
   "source": [
    "from trajdata.visualization.interactive_vis import plot_agent_batch_interactive\n",
    "import bokeh.plotting as plt\n",
    "\n",
    "plot_agent_batch_interactive(batch, 0, cache_path=dataset.cache_path)"
   ]
  },
  {
   "cell_type": "code",
   "execution_count": null,
   "id": "46cb1ccd",
   "metadata": {},
   "outputs": [],
   "source": []
  }
 ],
 "metadata": {
  "kernelspec": {
   "display_name": ".venv",
   "language": "python",
   "name": "python3"
  },
  "language_info": {
   "codemirror_mode": {
    "name": "ipython",
    "version": 3
   },
   "file_extension": ".py",
   "mimetype": "text/x-python",
   "name": "python",
   "nbconvert_exporter": "python",
   "pygments_lexer": "ipython3",
   "version": "3.12.11"
  }
 },
 "nbformat": 4,
 "nbformat_minor": 5
}
